{
  "nbformat": 4,
  "nbformat_minor": 0,
  "metadata": {
    "colab": {
      "provenance": [],
      "authorship_tag": "ABX9TyMrkGO1LkiXAK/dsn6ozCqo",
      "include_colab_link": true
    },
    "kernelspec": {
      "name": "python3",
      "display_name": "Python 3"
    },
    "language_info": {
      "name": "python"
    }
  },
  "cells": [
    {
      "cell_type": "markdown",
      "metadata": {
        "id": "view-in-github",
        "colab_type": "text"
      },
      "source": [
        "<a href=\"https://colab.research.google.com/github/Amirnaderiy/CNN_ViT/blob/main/ViT.ipynb\" target=\"_parent\"><img src=\"https://colab.research.google.com/assets/colab-badge.svg\" alt=\"Open In Colab\"/></a>"
      ]
    },
    {
      "cell_type": "code",
      "source": [
        "!pip install opencv-python\n",
        "!pip install efficientnet\n",
        "!pip install vit_keras\n",
        "!pip install tensorflow_addons"
      ],
      "metadata": {
        "colab": {
          "base_uri": "https://localhost:8080/"
        },
        "id": "DYSnfqUpF8G0",
        "outputId": "4b168a2e-defe-4aab-fe74-4f17762af4f9"
      },
      "execution_count": 2,
      "outputs": [
        {
          "output_type": "stream",
          "name": "stdout",
          "text": [
            "Looking in indexes: https://pypi.org/simple, https://us-python.pkg.dev/colab-wheels/public/simple/\n",
            "Requirement already satisfied: opencv-python in /usr/local/lib/python3.9/dist-packages (4.7.0.72)\n",
            "Requirement already satisfied: numpy>=1.17.3 in /usr/local/lib/python3.9/dist-packages (from opencv-python) (1.22.4)\n",
            "Looking in indexes: https://pypi.org/simple, https://us-python.pkg.dev/colab-wheels/public/simple/\n",
            "Collecting efficientnet\n",
            "  Downloading efficientnet-1.1.1-py3-none-any.whl (18 kB)\n",
            "Requirement already satisfied: scikit-image in /usr/local/lib/python3.9/dist-packages (from efficientnet) (0.19.3)\n",
            "Collecting keras-applications<=1.0.8,>=1.0.7\n",
            "  Downloading Keras_Applications-1.0.8-py3-none-any.whl (50 kB)\n",
            "\u001b[2K     \u001b[90m━━━━━━━━━━━━━━━━━━━━━━━━━━━━━━━━━━━━━━━━\u001b[0m \u001b[32m50.7/50.7 kB\u001b[0m \u001b[31m2.7 MB/s\u001b[0m eta \u001b[36m0:00:00\u001b[0m\n",
            "\u001b[?25hRequirement already satisfied: h5py in /usr/local/lib/python3.9/dist-packages (from keras-applications<=1.0.8,>=1.0.7->efficientnet) (3.8.0)\n",
            "Requirement already satisfied: numpy>=1.9.1 in /usr/local/lib/python3.9/dist-packages (from keras-applications<=1.0.8,>=1.0.7->efficientnet) (1.22.4)\n",
            "Requirement already satisfied: imageio>=2.4.1 in /usr/local/lib/python3.9/dist-packages (from scikit-image->efficientnet) (2.25.1)\n",
            "Requirement already satisfied: tifffile>=2019.7.26 in /usr/local/lib/python3.9/dist-packages (from scikit-image->efficientnet) (2023.4.12)\n",
            "Requirement already satisfied: PyWavelets>=1.1.1 in /usr/local/lib/python3.9/dist-packages (from scikit-image->efficientnet) (1.4.1)\n",
            "Requirement already satisfied: packaging>=20.0 in /usr/local/lib/python3.9/dist-packages (from scikit-image->efficientnet) (23.1)\n",
            "Requirement already satisfied: scipy>=1.4.1 in /usr/local/lib/python3.9/dist-packages (from scikit-image->efficientnet) (1.10.1)\n",
            "Requirement already satisfied: pillow!=7.1.0,!=7.1.1,!=8.3.0,>=6.1.0 in /usr/local/lib/python3.9/dist-packages (from scikit-image->efficientnet) (8.4.0)\n",
            "Requirement already satisfied: networkx>=2.2 in /usr/local/lib/python3.9/dist-packages (from scikit-image->efficientnet) (3.1)\n",
            "Installing collected packages: keras-applications, efficientnet\n",
            "Successfully installed efficientnet-1.1.1 keras-applications-1.0.8\n"
          ]
        }
      ]
    },
    {
      "cell_type": "code",
      "source": [
        " \n",
        "from vit_keras import vit, utils\n",
        "import tensorflow as tf\n",
        "import os , shutil\n",
        "import cv2\n",
        "from keras.optimizers import Adam\n",
        "from tensorflow.keras import layers, models\n",
        "from tensorflow.keras.preprocessing.image import ImageDataGenerator\n",
        "from tensorflow.keras.applications import EfficientNetB7\n",
        "from tensorflow.keras.applications.efficientnet import preprocess_input\n",
        "from sklearn.model_selection import train_test_split\n",
        "from tensorflow.keras.optimizers import SGD , Adam\n",
        "from keras.callbacks import LearningRateScheduler\n",
        "import matplotlib.pyplot as plt\n",
        "import numpy as np\n",
        "import math\n",
        "from google.colab import files\n",
        "from google.colab import drive\n"
      ],
      "metadata": {
        "id": "g5GcJu8gkZMQ"
      },
      "execution_count": 9,
      "outputs": []
    },
    {
      "cell_type": "code",
      "source": [
        "drive.mount('/content/drive')\n"
      ],
      "metadata": {
        "colab": {
          "base_uri": "https://localhost:8080/"
        },
        "id": "ZWEjNB1yHG1Q",
        "outputId": "e33ce0a9-0887-48cd-a6a2-335eba26252d"
      },
      "execution_count": 13,
      "outputs": [
        {
          "output_type": "stream",
          "name": "stdout",
          "text": [
            "Drive already mounted at /content/drive; to attempt to forcibly remount, call drive.mount(\"/content/drive\", force_remount=True).\n"
          ]
        }
      ]
    },
    {
      "cell_type": "code",
      "execution_count": null,
      "metadata": {
        "id": "VoPalHgWj-AP",
        "colab": {
          "base_uri": "https://localhost:8080/"
        },
        "outputId": "3a93a628-4af0-434c-d728-5d9331a8dc51"
      },
      "outputs": [
        {
          "output_type": "stream",
          "name": "stdout",
          "text": [
            "Downloading data from https://github.com/faustomorales/vit-keras/releases/download/dl/ViT-L_32_imagenet21k+imagenet2012.npz\n",
            "1226658854/1226658854 [==============================] - 15s 0us/step\n"
          ]
        },
        {
          "output_type": "stream",
          "name": "stderr",
          "text": [
            "/usr/local/lib/python3.9/dist-packages/vit_keras/utils.py:81: UserWarning: Resizing position embeddings from 12, 12 to 7, 7\n",
            "  warnings.warn(\n"
          ]
        },
        {
          "output_type": "stream",
          "name": "stdout",
          "text": [
            "Epoch 1/250\n"
          ]
        }
      ],
      "source": [
        "original_dataset_dir = '/content/drive/MyDrive/B-Mode Ultrasound/'\n",
        "\n",
        "\n",
        "# Define the four groups based on the filename\n",
        "group0 = [filename for filename in os.listdir(original_dataset_dir) if filename.startswith('Group0')]\n",
        "group1 = [filename for filename in os.listdir(original_dataset_dir) if filename.startswith('Group1')]\n",
        "group2 = [filename for filename in os.listdir(original_dataset_dir) if filename.startswith('Group2')]\n",
        "group3 = [filename for filename in os.listdir(original_dataset_dir) if filename.startswith('Group3')]\n",
        "\n",
        "# Define a function to load the images and resize them to a specific size\n",
        "def load_and_resize_image(filename, target_size):\n",
        "    img = cv2.imread(os.path.join(original_dataset_dir, filename))\n",
        "    img = cv2.resize(img, target_size)\n",
        "    return img\n",
        "\n",
        "# Define the target size for the images\n",
        "target_size = (224, 224)\n",
        "\n",
        "# Load the images for each group and resize them\n",
        "group0_images = [load_and_resize_image(filename, target_size) for filename in group0]\n",
        "group1_images = [load_and_resize_image(filename, target_size) for filename in group1]\n",
        "group2_images = [load_and_resize_image(filename, target_size) for filename in group2]\n",
        "group3_images = [load_and_resize_image(filename, target_size) for filename in group3]\n",
        "\n",
        "# Define the labels for each group\n",
        "group0_labels = [0] * len(group0_images)\n",
        "group1_labels = [1] * len(group1_images)\n",
        "group2_labels = [2] * len(group2_images)\n",
        "group3_labels = [3] * len(group3_images)\n",
        "\n",
        "images = group0_images + group1_images + group2_images + group3_images\n",
        "labels = group0_labels + group1_labels + group2_labels + group3_labels\n",
        "\n",
        "# Split the data into train and test sets\n",
        "train_images, test_images, train_labels, test_labels = train_test_split(images, labels, test_size=0.30, random_state=42)\n",
        "\n",
        "# Split the train set into train and validation sets\n",
        "test_images, val_images, test_labels, val_labels = train_test_split(train_images, train_labels, test_size=0.50, random_state=42)\n",
        "\n",
        "\n",
        "\n",
        "image_size = 224\n",
        "num_classes=4\n",
        "# Load the pre-trained VIT model with imagenet weights\n",
        "vit_model = vit.vit_l32(\n",
        "    image_size=image_size,\n",
        "    activation='sigmoid',\n",
        "    include_top=True,\n",
        "    pretrained=True,\n",
        "    classes=1000)\n",
        "\n",
        "# Remove the last layer\n",
        "vit_model.layers.pop()\n",
        "\n",
        "# Add your own fully connected layers\n",
        "model = models.Sequential()\n",
        "model.add(vit_model)\n",
        "model.add(layers.Dense(256, activation='relu'))\n",
        "model.add(layers.Dropout(0.5))\n",
        "model.add(layers.Dense(128, activation='relu'))\n",
        "model.add(layers.Dense(num_classes, activation='softmax'))\n",
        "\n",
        "\n",
        "\n",
        "\n",
        "# Define the batch size for training and validation\n",
        "batch_size = 32\n",
        "\n",
        "# Define the number of classes\n",
        "num_classes = 4\n",
        "\n",
        "# Define the data generators for training, validation, and testing\n",
        "train_datagen = ImageDataGenerator(\n",
        "    rescale=1./255,\n",
        "    rotation_range=30,\n",
        "    width_shift_range=0.2,\n",
        "    height_shift_range=0.2,\n",
        "    brightness_range=[0.5, 1.5],\n",
        "    shear_range=0.2,\n",
        "    zoom_range=0.2,\n",
        "    horizontal_flip=True,\n",
        "    preprocessing_function=preprocess_input\n",
        ")\n",
        "\n",
        "\n",
        "\n",
        "test_datagen = ImageDataGenerator(\n",
        "    preprocessing_function=preprocess_input\n",
        ")\n",
        "\n",
        "\n",
        "val_datagen = ImageDataGenerator(\n",
        "    preprocessing_function=preprocess_input\n",
        ")\n",
        "\n",
        "train_generator = train_datagen.flow(\n",
        "    x=np.array(train_images),\n",
        "    y=tf.keras.utils.to_categorical(train_labels, num_classes=num_classes),\n",
        "    batch_size=batch_size,\n",
        "    shuffle=True\n",
        ")\n",
        "\n",
        "validation_generator = val_datagen.flow(\n",
        "    x=np.array(val_images),\n",
        "    y=tf.keras.utils.to_categorical(val_labels, num_classes=num_classes),\n",
        "    batch_size=batch_size,\n",
        "    shuffle=False\n",
        ")\n",
        "\n",
        "test_generator = test_datagen.flow(\n",
        "    x=np.array(test_images),\n",
        "    y=tf.keras.utils.to_categorical(test_labels, num_classes=num_classes),\n",
        "    batch_size=batch_size,\n",
        "    shuffle=False\n",
        ")\n",
        "    \n",
        "    \n",
        "\n",
        "def step_decay(epoch):\n",
        "    initial_lr = 0.001\n",
        "    drop = 0.5\n",
        "    epochs_drop = 50\n",
        "    lr = initial_lr * math.pow(drop, math.floor((1+epoch)/epochs_drop))\n",
        "    return lr\n",
        "\n",
        "lr_scheduler = LearningRateScheduler(step_decay)\n",
        "\n",
        "model.compile(optimizer=Adam(), loss='categorical_crossentropy', metrics=[\"accuracy\"])\n",
        "\n",
        "\n",
        "    \n",
        "history = model.fit(train_generator, \n",
        "                    steps_per_epoch=len(train_generator), \n",
        "                    epochs=250, \n",
        "                    validation_data=validation_generator,\n",
        "                    validation_steps=len(validation_generator),\n",
        "                    callbacks=[lr_scheduler])\n",
        "\n",
        "test_loss, test_acc = model.evaluate(test_generator, steps=len(test_generator))\n",
        "\n"
      ]
    },
    {
      "cell_type": "code",
      "source": [
        "history_dict=history.history\n",
        "accuracy_values=history_dict['accuracy']\n",
        "val_accuracy_values=history_dict['val_accuracy']\n",
        "test_accuracy_values = [test_acc] * len(accuracy_values)\n",
        "epochs=range(1,len(accuracy_values)+1)\n",
        "plt.plot (epochs,accuracy_values,'bo',label='Training Accuracy')\n",
        "plt.plot (epochs,val_accuracy_values,'r',label='Validation Accuracy')\n",
        "plt.plot (epochs,test_accuracy_values,'g',label='Test Accuracy')\n",
        "plt.title('Training, Validation and Test Accuracy')\n",
        "plt.xlabel('Epochs')\n",
        "plt.ylabel('Accuracy')\n",
        "plt.legend()\n",
        "plt.show()\n",
        "\n",
        "accuracy_values=history_dict['loss']\n",
        "val_accuracy_values=history_dict['val_loss']\n",
        "test_loss_values = [test_loss] * len(accuracy_values)\n",
        "epochs=range(1,len(accuracy_values)+1)\n",
        "plt.plot (epochs,accuracy_values,'b*',label='Training Loss')\n",
        "plt.plot (epochs,val_accuracy_values,'r',label='Validation Loss')\n",
        "plt.plot (epochs,test_loss_values,'g',label='Test Loss')\n",
        "plt.title('Training, Validation and Test Loss')\n",
        "plt.xlabel('Epochs')\n",
        "plt.ylabel('Loss')\n",
        "plt.legend()\n",
        "plt.show()"
      ],
      "metadata": {
        "id": "1DIspujGkT6l"
      },
      "execution_count": null,
      "outputs": []
    }
  ]
}